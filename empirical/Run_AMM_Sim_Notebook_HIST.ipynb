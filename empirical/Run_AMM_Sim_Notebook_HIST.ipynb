{
 "cells": [
  {
   "cell_type": "code",
   "execution_count": 1,
   "id": "63d3c354-2ad5-4def-b8f6-06aa6d791f48",
   "metadata": {},
   "outputs": [
    {
     "name": "stdout",
     "output_type": "stream",
     "text": [
      "Intel MKL WARNING: Support of Intel(R) Streaming SIMD Extensions 4.2 (Intel(R) SSE4.2) enabled only processors has been deprecated. Intel oneAPI Math Kernel Library 2025.0 will require Intel(R) Advanced Vector Extensions (Intel(R) AVX) instructions.\n",
      "Intel MKL WARNING: Support of Intel(R) Streaming SIMD Extensions 4.2 (Intel(R) SSE4.2) enabled only processors has been deprecated. Intel oneAPI Math Kernel Library 2025.0 will require Intel(R) Advanced Vector Extensions (Intel(R) AVX) instructions.\n"
     ]
    }
   ],
   "source": [
    "#!/usr/bin/env python3\n",
    "import os\n",
    "import argparse\n",
    "import numpy as np\n",
    "from tqdm import tqdm\n",
    "import multiprocessing\n",
    "import pickle\n",
    "from joblib import Parallel, delayed\n",
    "import fast_simulation_with_arb as sim\n",
    "\n",
    "# Input Parameters\n",
    "eta0 = 0.000918 # CEX proportional cost\n",
    "mu = 0.0  # Mean of CEX price shock\n",
    "M = 1 # Total number of sims\n",
    "thds = 7 # Get number of threads\n",
    "\n",
    "# Fixed Market Parameters\n",
    "T = 31 # Time horizon\n",
    "N = 44638 # Number of periods\n",
    "dt = T/N # Time increment\n",
    "\n",
    "X = 23000000 # Initial CPMM Dollar Reserves\n",
    "S = 3331.51 # Initial CEX Price\n",
    "Y = X/S # Initial CPMM Asset Reserves\n",
    "time = np.array([i * dt for i in range(N+1)]) # Time grid\n",
    "\n",
    "# Generate buyer-first/seller-first trade filter\n",
    "filtr_bfs , filtr_sfs =  sim.generate_trade_filters(N, M) \n",
    "\n",
    "# Set of AMM Fee values to test\n",
    "eta1_vals = np.linspace(0.0001, 0.0035, 101)\n",
    "\n",
    "# Set of sigma values for simulation\n",
    "sigma_vals = np.array(['HIST'])\n",
    "\n",
    "#buy_rates = np.linspace(8000., 50000., 20)\n",
    "buy_rates = np.array([14704.])\n"
   ]
  },
  {
   "cell_type": "code",
   "execution_count": 2,
   "id": "859149fb",
   "metadata": {},
   "outputs": [],
   "source": [
    "# Load historical prices\n",
    "import pandas as pd\n",
    "currency_pair = 'ETHUSDC'\n",
    "month = '2025-01'\n",
    "\n",
    "df = pd.read_csv('../data/ETHUSDC/'+currency_pair+'-1m-'+month+'.csv')\n",
    "df.columns=['time', 'open', 'high', 'low', 'close', 's1', 's2', 's3', 's4', 's5', 's6', 's7']\n",
    "df.set_index('time', inplace=True)\n",
    "df.index = pd.to_datetime(df.index, unit='us')\n",
    "\n",
    "df_price = df[['close']].copy()"
   ]
  },
  {
   "cell_type": "code",
   "execution_count": 3,
   "id": "be01ff15-e409-436e-b9c3-fca896b20d15",
   "metadata": {},
   "outputs": [
    {
     "name": "stdout",
     "output_type": "stream",
     "text": [
      "Sigma Value: HIST\n"
     ]
    },
    {
     "name": "stderr",
     "output_type": "stream",
     "text": [
      "  9%|▉         | 9/101 [00:00<00:06, 15.29it/s]"
     ]
    },
    {
     "name": "stdout",
     "output_type": "stream",
     "text": [
      "Intel MKL WARNING: Support of Intel(R) Streaming SIMD Extensions 4.2 (Intel(R) SSE4.2) enabled only processors has been deprecated. Intel oneAPI Math Kernel Library 2025.0 will require Intel(R) Advanced Vector Extensions (Intel(R) AVX) instructions.\n",
      "Intel MKL WARNING: Support of Intel(R) Streaming SIMD Extensions 4.2 (Intel(R) SSE4.2) enabled only processors has been deprecated. Intel oneAPI Math Kernel Library 2025.0 will require Intel(R) Advanced Vector Extensions (Intel(R) AVX) instructions.\n",
      "Intel MKL WARNING: Support of Intel(R) Streaming SIMD Extensions 4.2 (Intel(R) SSE4.2) enabled only processors has been deprecated. Intel oneAPI Math Kernel Library 2025.0 will require Intel(R) Advanced Vector Extensions (Intel(R) AVX) instructions.\n",
      "Intel MKL WARNING: Support of Intel(R) Streaming SIMD Extensions 4.2 (Intel(R) SSE4.2) enabled only processors has been deprecated. Intel oneAPI Math Kernel Library 2025.0 will require Intel(R) Advanced Vector Extensions (Intel(R) AVX) instructions.\n",
      "Intel MKL WARNING: Support of Intel(R) Streaming SIMD Extensions 4.2 (Intel(R) SSE4.2) enabled only processors has been deprecated. Intel oneAPI Math Kernel Library 2025.0 will require Intel(R) Advanced Vector Extensions (Intel(R) AVX) instructions.\n",
      "Intel MKL WARNING: Support of Intel(R) Streaming SIMD Extensions 4.2 (Intel(R) SSE4.2) enabled only processors has been deprecated. Intel oneAPI Math Kernel Library 2025.0 will require Intel(R) Advanced Vector Extensions (Intel(R) AVX) instructions.\n",
      "Intel MKL WARNING: Support of Intel(R) Streaming SIMD Extensions 4.2 (Intel(R) SSE4.2) enabled only processors has been deprecated. Intel oneAPI Math Kernel Library 2025.0 will require Intel(R) Advanced Vector Extensions (Intel(R) AVX) instructions.\n",
      "Intel MKL WARNING: Support of Intel(R) Streaming SIMD Extensions 4.2 (Intel(R) SSE4.2) enabled only processors has been deprecated. Intel oneAPI Math Kernel Library 2025.0 will require Intel(R) Advanced Vector Extensions (Intel(R) AVX) instructions.\n",
      "Intel MKL WARNING: Support of Intel(R) Streaming SIMD Extensions 4.2 (Intel(R) SSE4.2) enabled only processors has been deprecated. Intel oneAPI Math Kernel Library 2025.0 will require Intel(R) Advanced Vector Extensions (Intel(R) AVX) instructions.\n",
      "Intel MKL WARNING: Support of Intel(R) Streaming SIMD Extensions 4.2 (Intel(R) SSE4.2) enabled only processors has been deprecated. Intel oneAPI Math Kernel Library 2025.0 will require Intel(R) Advanced Vector Extensions (Intel(R) AVX) instructions.\n",
      "Intel MKL WARNING: Support of Intel(R) Streaming SIMD Extensions 4.2 (Intel(R) SSE4.2) enabled only processors has been deprecated. Intel oneAPI Math Kernel Library 2025.0 will require Intel(R) Advanced Vector Extensions (Intel(R) AVX) instructions.\n",
      "Intel MKL WARNING: Support of Intel(R) Streaming SIMD Extensions 4.2 (Intel(R) SSE4.2) enabled only processors has been deprecated. Intel oneAPI Math Kernel Library 2025.0 will require Intel(R) Advanced Vector Extensions (Intel(R) AVX) instructions.\n",
      "Intel MKL WARNING: Support of Intel(R) Streaming SIMD Extensions 4.2 (Intel(R) SSE4.2) enabled only processors has been deprecated. Intel oneAPI Math Kernel Library 2025.0 will require Intel(R) Advanced Vector Extensions (Intel(R) AVX) instructions.\n",
      "Intel MKL WARNING: Support of Intel(R) Streaming SIMD Extensions 4.2 (Intel(R) SSE4.2) enabled only processors has been deprecated. Intel oneAPI Math Kernel Library 2025.0 will require Intel(R) Advanced Vector Extensions (Intel(R) AVX) instructions.\n",
      "Intel MKL WARNING: Support of Intel(R) Streaming SIMD Extensions 4.2 (Intel(R) SSE4.2) enabled only processors has been deprecated. Intel oneAPI Math Kernel Library 2025.0 will require Intel(R) Advanced Vector Extensions (Intel(R) AVX) instructions.\n",
      "Intel MKL WARNING: Support of Intel(R) Streaming SIMD Extensions 4.2 (Intel(R) SSE4.2) enabled only processors has been deprecated. Intel oneAPI Math Kernel Library 2025.0 will require Intel(R) Advanced Vector Extensions (Intel(R) AVX) instructions.\n"
     ]
    },
    {
     "name": "stderr",
     "output_type": "stream",
     "text": [
      "100%|██████████| 101/101 [00:07<00:00, 14.26it/s]"
     ]
    },
    {
     "name": "stdout",
     "output_type": "stream",
     "text": [
      "Partial simulation done\n",
      "Simulation successfully completed.\n"
     ]
    },
    {
     "name": "stderr",
     "output_type": "stream",
     "text": [
      "\n"
     ]
    }
   ],
   "source": [
    "# Collect data\n",
    "all_outputs = {}  # Dictionary to store outputs keyed by sigma.\n",
    "\n",
    "for k in range(len(buy_rates)):\n",
    "\n",
    "    buy_rate = buy_rates[k] # Purchase rate per unit time for systematic buyers\n",
    "    sell_rate = buy_rate # Sale rate per unit time for systematic sellers\n",
    "    buy = buy_rate * dt # Constant trade size for systematic buyers\n",
    "    sell = -sell_rate * dt # Constant trade size for systematic sellers\n",
    "\n",
    "    for i in range(len(sigma_vals)):\n",
    "        sigma_value = sigma_vals[i]\n",
    "        print(\"Sigma Value: \" + str(sigma_value))\n",
    "        \n",
    "        # Set the sigma for this iteration and simulate the CEX price series.\n",
    "        sigma = sigma_value\n",
    "        S0 = np.vstack([df_price['close'].values]*M).T # Initialize price series\n",
    "        \n",
    "        # Run the parallel simulation for each eta1 value.\n",
    "        output_vals = Parallel(n_jobs=thds)(\n",
    "            delayed(sim.fast_simulation_summary)(\n",
    "                M, N, T, dt, buy, sell, eta0, eta1_vals[j], eta0, S0, X, Y, filtr_bfs, filtr_sfs\n",
    "            )\n",
    "            for j in tqdm(range(len(eta1_vals)))\n",
    "        )\n",
    "        \n",
    "        # Store the output in the dictionary.\n",
    "        all_outputs[sigma_value] = np.array(output_vals)\n",
    "\n",
    "    # Save the dictionary to a file\n",
    "    filename = \"all_outputs_eta0_\" + str(eta0) + \"_mu_\" + str(mu) \\\n",
    "                + \"_buy_\" + str(round(buy_rate)) + \"_sell_\" + str(round(sell_rate))+ \"_HIST.pkl\"\n",
    "\n",
    "    with open(filename, \"wb\") as f:\n",
    "        pickle.dump(all_outputs, f)\n",
    "\n",
    "    print(\"Partial simulation done\")\n",
    "\n",
    "print(\"Simulation successfully completed.\")"
   ]
  },
  {
   "cell_type": "code",
   "execution_count": null,
   "id": "213eaa16-1c92-4be9-9710-8b9cf74467d0",
   "metadata": {},
   "outputs": [],
   "source": []
  }
 ],
 "metadata": {
  "kernelspec": {
   "display_name": "env0823",
   "language": "python",
   "name": "python3"
  },
  "language_info": {
   "codemirror_mode": {
    "name": "ipython",
    "version": 3
   },
   "file_extension": ".py",
   "mimetype": "text/x-python",
   "name": "python",
   "nbconvert_exporter": "python",
   "pygments_lexer": "ipython3",
   "version": "3.11.4"
  }
 },
 "nbformat": 4,
 "nbformat_minor": 5
}
