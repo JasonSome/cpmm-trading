{
 "cells": [
  {
   "cell_type": "code",
   "execution_count": 1,
   "id": "74864fa5-b485-4991-8379-8ced0832a54d",
   "metadata": {},
   "outputs": [],
   "source": [
    "import numpy as np\n",
    "import matplotlib as mpl\n",
    "import matplotlib.pyplot as plt\n",
    "import timeit as timeit\n",
    "import AMM_sim_functions as sim\n",
    "import fast_AMM_sim_functions as fsim"
   ]
  },
  {
   "cell_type": "code",
   "execution_count": 2,
   "id": "32988042-f7ae-48fa-98f8-d515e03d945c",
   "metadata": {},
   "outputs": [],
   "source": [
    "# Market Parameters\n",
    "\n",
    "T = 1 # Time horizon\n",
    "N = 1440 # Number of periods\n",
    "dt = T/N # Time increment\n",
    "buy = 2500.*dt # Constant trade size for systematic buyers\n",
    "sell = -2500.*dt # Constant trade size for systematic sellers\n",
    "eta0 = 0.005 # CEX proportional cost\n",
    "eta1 = 0.0025 # CPMM proportional cost\n",
    "X = 30000000 # Initial CPMM Dollar Reserves\n",
    "Y = 10000 # Initial CPMM Asset Reserves\n",
    "S = X/Y # Initial CEX Price\n",
    "sigma = 0.05 # Standard deviation of CEX price shock\n",
    "mu = 0  # Mean of CEX price shock\n",
    "M = 10000 # Total number of sims\n",
    "time = np.array([i * dt for i in range(N+1)]) # Time grid"
   ]
  },
  {
   "cell_type": "code",
   "execution_count": 3,
   "id": "8eac0ac2-69af-4826-b444-70f22f306e18",
   "metadata": {},
   "outputs": [],
   "source": [
    "S0 = sim.CEX_Price(S, mu, sigma, dt, N, M) # Generate price series\n",
    "\n",
    "filtr_bfs , filtr_sfs =  sim.generate_trade_filters(N, M) # Generate buyer-first/seller-first trade filter"
   ]
  },
  {
   "cell_type": "code",
   "execution_count": 4,
   "id": "855ae066-99b5-42ad-872d-d0fdf6be7dd5",
   "metadata": {},
   "outputs": [
    {
     "name": "stdout",
     "output_type": "stream",
     "text": [
      "CPU times: user 1.64 s, sys: 227 ms, total: 1.86 s\n",
      "Wall time: 1.87 s\n"
     ]
    },
    {
     "data": {
      "text/plain": [
       "array([1.42261448e+04, 1.42501029e+04, 1.03536181e+03, 5.99774287e+07,\n",
       "       5.99960844e+07])"
      ]
     },
     "execution_count": 4,
     "metadata": {},
     "output_type": "execute_result"
    }
   ],
   "source": [
    "%%time\n",
    "\n",
    "# Original Simulation\n",
    "v = sim.simulation_summary(M, N, T, dt, buy, sell, eta0, eta1, S0, X, Y, filtr_bfs, filtr_sfs)\n",
    "v"
   ]
  },
  {
   "cell_type": "code",
   "execution_count": 5,
   "id": "9d13f7e2-e9e3-4317-8cea-a7ee0c9fd330",
   "metadata": {},
   "outputs": [
    {
     "name": "stdout",
     "output_type": "stream",
     "text": [
      "CPU times: user 700 ms, sys: 117 ms, total: 817 ms\n",
      "Wall time: 888 ms\n"
     ]
    },
    {
     "data": {
      "text/plain": [
       "array([1.42261448e+04, 1.42501029e+04, 1.03536181e+03, 5.99774287e+07,\n",
       "       5.99960844e+07])"
      ]
     },
     "execution_count": 5,
     "metadata": {},
     "output_type": "execute_result"
    }
   ],
   "source": [
    "%%time\n",
    "\n",
    "# Fast Simulation\n",
    "vf = fsim.fast_simulation_summary(M, N, T, dt, buy, sell, eta0, eta1, S0, X, Y, filtr_bfs, filtr_sfs)\n",
    "vf"
   ]
  },
  {
   "cell_type": "code",
   "execution_count": 6,
   "id": "2054749c-2133-43f1-a130-bdd1935dec63",
   "metadata": {},
   "outputs": [
    {
     "name": "stdout",
     "output_type": "stream",
     "text": [
      "[ 3.41242412e-09  1.50430424e-09 -9.77706804e-12  3.72529030e-08\n",
      "  0.00000000e+00]\n",
      "3.725290298461914e-08\n"
     ]
    }
   ],
   "source": [
    "# Compare values to ensure they are the same (up to numerical error)\n",
    "print(vf-v)\n",
    "print(np.max(np.abs(vf-v)))"
   ]
  },
  {
   "cell_type": "code",
   "execution_count": 7,
   "id": "5340a5d8-2ca9-493a-a097-61012554e45f",
   "metadata": {},
   "outputs": [
    {
     "name": "stdout",
     "output_type": "stream",
     "text": [
      "Average execution time: 1.907697 seconds\n"
     ]
    }
   ],
   "source": [
    "# Measure execution time of original code\n",
    "execution_time = timeit.timeit(lambda: sim.simulation_summary(M, N, T, dt, buy, sell, eta0, eta1, S0, X, Y, filtr_bfs, filtr_sfs), number=100)\n",
    "\n",
    "print(f\"Average execution time: {execution_time / 100:.6f} seconds\")"
   ]
  },
  {
   "cell_type": "code",
   "execution_count": 8,
   "id": "d88bc864-5a08-4d56-9f64-789e1ed4fc04",
   "metadata": {},
   "outputs": [
    {
     "name": "stdout",
     "output_type": "stream",
     "text": [
      "Average execution time: 0.398382 seconds\n"
     ]
    }
   ],
   "source": [
    "# Measure execution time of fast code\n",
    "execution_time = timeit.timeit(lambda: fsim.fast_simulation_summary(M, N, T, dt, buy, sell, eta0, eta1, S0, X, Y, filtr_bfs, filtr_sfs),number=100)\n",
    "\n",
    "print(f\"Average execution time: {execution_time / 100:.6f} seconds\")"
   ]
  },
  {
   "cell_type": "code",
   "execution_count": null,
   "id": "57dfae83-445b-4f47-b40f-3034ae222b3f",
   "metadata": {},
   "outputs": [],
   "source": []
  }
 ],
 "metadata": {
  "kernelspec": {
   "display_name": "Python 3 (ipykernel)",
   "language": "python",
   "name": "python3"
  },
  "language_info": {
   "codemirror_mode": {
    "name": "ipython",
    "version": 3
   },
   "file_extension": ".py",
   "mimetype": "text/x-python",
   "name": "python",
   "nbconvert_exporter": "python",
   "pygments_lexer": "ipython3",
   "version": "3.12.7"
  }
 },
 "nbformat": 4,
 "nbformat_minor": 5
}
